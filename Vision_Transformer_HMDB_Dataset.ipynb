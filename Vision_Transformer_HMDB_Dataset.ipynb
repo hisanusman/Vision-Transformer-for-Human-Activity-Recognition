{
  "metadata": {
    "kernelspec": {
      "language": "python",
      "display_name": "Python 3",
      "name": "python3"
    },
    "language_info": {
      "name": "python",
      "version": "3.10.14",
      "mimetype": "text/x-python",
      "codemirror_mode": {
        "name": "ipython",
        "version": 3
      },
      "pygments_lexer": "ipython3",
      "nbconvert_exporter": "python",
      "file_extension": ".py"
    },
    "kaggle": {
      "accelerator": "gpu",
      "dataSources": [
        {
          "sourceId": 4750382,
          "sourceType": "datasetVersion",
          "datasetId": 2749140
        }
      ],
      "dockerImageVersionId": 30787,
      "isInternetEnabled": true,
      "language": "python",
      "sourceType": "notebook",
      "isGpuEnabled": true
    },
    "colab": {
      "provenance": []
    }
  },
  "nbformat_minor": 0,
  "nbformat": 4,
  "cells": [
    {
      "cell_type": "markdown",
      "source": [
        "# Vision Transformer model for Human motion database (HMDB)\n",
        "\n",
        "[https://www.kaggle.com/datasets/avigoen/hmdb-human-activity-recognition/data](https://)"
      ],
      "metadata": {
        "id": "5HuW6l1a67cB"
      }
    },
    {
      "cell_type": "code",
      "source": [
        "import os\n",
        "import cv2\n",
        "import torch\n",
        "import random\n",
        "import numpy as np\n",
        "from PIL import Image\n",
        "from tqdm import tqdm\n",
        "from tqdm.notebook import tqdm\n",
        "from torchvision import transforms\n",
        "from transformers import get_cosine_schedule_with_warmup\n",
        "from torch.utils.data import DataLoader, Dataset, random_split\n",
        "from transformers import ViTForImageClassification, ViTFeatureExtractor"
      ],
      "metadata": {
        "execution": {
          "iopub.status.busy": "2024-11-10T13:01:22.960714Z",
          "iopub.execute_input": "2024-11-10T13:01:22.961048Z",
          "iopub.status.idle": "2024-11-10T13:01:28.014951Z",
          "shell.execute_reply.started": "2024-11-10T13:01:22.961008Z",
          "shell.execute_reply": "2024-11-10T13:01:28.014032Z"
        },
        "trusted": true,
        "id": "SvMmuQFM67cE"
      },
      "execution_count": null,
      "outputs": []
    },
    {
      "cell_type": "markdown",
      "source": [
        "## Data loading and pre-processing:"
      ],
      "metadata": {
        "id": "u4RH0i-B67cG"
      }
    },
    {
      "cell_type": "code",
      "source": [
        "dataset_path = '/kaggle/input/hmdb-human-activity-recognition/HMDB_dataset'\n",
        "output_frames_path = '/kaggle/working/hmdb_frames'\n",
        "\n",
        "os.makedirs(output_frames_path, exist_ok=True)\n",
        "\n",
        "frame_interval = 10\n",
        "image_size = 224                # - as expected by ViT\n",
        "\n",
        "data_transforms = transforms.Compose([\n",
        "    transforms.RandomResizedCrop(image_size, scale=(0.8, 1.0)),\n",
        "    transforms.RandomHorizontalFlip(),\n",
        "    transforms.ToTensor(),\n",
        "    transforms.Normalize(mean=[0.485, 0.456, 0.406], std=[0.229, 0.224, 0.225]),\n",
        "])"
      ],
      "metadata": {
        "id": "Jmu26zEK67cG"
      },
      "execution_count": null,
      "outputs": []
    },
    {
      "cell_type": "code",
      "source": [
        "for action_class in tqdm(os.listdir(dataset_path), desc=\"Processing classes\"):\n",
        "    class_path = os.path.join(dataset_path, action_class)\n",
        "    if not os.path.isdir(class_path):\n",
        "        continue\n",
        "\n",
        "    class_output_path = os.path.join(output_frames_path, action_class)\n",
        "    os.makedirs(class_output_path, exist_ok=True)\n",
        "\n",
        "    for video_file in os.listdir(class_path):\n",
        "        video_path = os.path.join(class_path, video_file)\n",
        "\n",
        "        cap = cv2.VideoCapture(video_path)\n",
        "        frame_count = 0\n",
        "        saved_frame_count = 0\n",
        "\n",
        "        while cap.isOpened():\n",
        "            ret, frame = cap.read()\n",
        "            if not ret:\n",
        "                break\n",
        "\n",
        "            if frame_count % frame_interval == 0:\n",
        "                frame_resized = cv2.resize(frame, (image_size, image_size))\n",
        "                frame_pil = Image.fromarray(cv2.cvtColor(frame_resized, cv2.COLOR_BGR2RGB))\n",
        "\n",
        "                frame_augmented = data_transforms(frame_pil)\n",
        "\n",
        "                save_path = os.path.join(class_output_path, f\"{video_file}_{saved_frame_count}.jpg\")\n",
        "                frame_augmented_pil = transforms.ToPILImage()(frame_augmented)\n",
        "                frame_augmented_pil.save(save_path)\n",
        "\n",
        "                saved_frame_count += 1\n",
        "\n",
        "            frame_count += 1\n",
        "\n",
        "        cap.release()\n",
        "\n",
        "print(\"Frame extraction and augmentation complete.\")"
      ],
      "metadata": {
        "_uuid": "8f2839f25d086af736a60e9eeb907d3b93b6e0e5",
        "_cell_guid": "b1076dfc-b9ad-4769-8c92-a6c4dae69d19",
        "execution": {
          "iopub.status.busy": "2024-11-10T13:02:46.789241Z",
          "iopub.execute_input": "2024-11-10T13:02:46.790231Z",
          "iopub.status.idle": "2024-11-10T13:12:05.643174Z",
          "shell.execute_reply.started": "2024-11-10T13:02:46.790187Z",
          "shell.execute_reply": "2024-11-10T13:12:05.642187Z"
        },
        "trusted": true,
        "colab": {
          "referenced_widgets": [
            "869a501061484e36bf729fc971d5e39e"
          ]
        },
        "id": "Goee3KEQ67cH",
        "outputId": "0dd16028-3d2e-4433-dc9f-ecf23dd53f65"
      },
      "execution_count": null,
      "outputs": [
        {
          "output_type": "display_data",
          "data": {
            "text/plain": "Processing classes:   0%|          | 0/51 [00:00<?, ?it/s]",
            "application/vnd.jupyter.widget-view+json": {
              "version_major": 2,
              "version_minor": 0,
              "model_id": "869a501061484e36bf729fc971d5e39e"
            }
          },
          "metadata": {}
        },
        {
          "name": "stdout",
          "text": "Frame extraction and augmentation complete.\n",
          "output_type": "stream"
        }
      ]
    },
    {
      "cell_type": "markdown",
      "source": [
        "## Loading vision transformer model:"
      ],
      "metadata": {
        "id": "2QMHk6Dt67cJ"
      }
    },
    {
      "cell_type": "code",
      "source": [
        "num_classes = 51\n",
        "\n",
        "model_name = \"google/vit-base-patch16-224-in21k\"\n",
        "model = ViTForImageClassification.from_pretrained(model_name)\n",
        "feature_extractor = ViTFeatureExtractor.from_pretrained(model_name)\n",
        "\n",
        "model.classifier = torch.nn.Linear(model.classifier.in_features, num_classes)\n",
        "print(model)"
      ],
      "metadata": {
        "execution": {
          "iopub.status.busy": "2024-11-10T13:12:05.645114Z",
          "iopub.execute_input": "2024-11-10T13:12:05.645566Z",
          "iopub.status.idle": "2024-11-10T13:12:22.282404Z",
          "shell.execute_reply.started": "2024-11-10T13:12:05.645522Z",
          "shell.execute_reply": "2024-11-10T13:12:22.281488Z"
        },
        "trusted": true,
        "colab": {
          "referenced_widgets": [
            "6d65e4c140ef4b1380891ea1c160543a",
            "ffe6d1867e3c4eb98c87f20686baafe6",
            "313823980ba3483f88225ef792d64b40"
          ]
        },
        "id": "-vfcdzT467cJ",
        "outputId": "d71d2c1c-5fbb-4b9b-fd83-1ef096c011a9"
      },
      "execution_count": null,
      "outputs": [
        {
          "output_type": "display_data",
          "data": {
            "text/plain": "config.json:   0%|          | 0.00/502 [00:00<?, ?B/s]",
            "application/vnd.jupyter.widget-view+json": {
              "version_major": 2,
              "version_minor": 0,
              "model_id": "6d65e4c140ef4b1380891ea1c160543a"
            }
          },
          "metadata": {}
        },
        {
          "output_type": "display_data",
          "data": {
            "text/plain": "model.safetensors:   0%|          | 0.00/346M [00:00<?, ?B/s]",
            "application/vnd.jupyter.widget-view+json": {
              "version_major": 2,
              "version_minor": 0,
              "model_id": "ffe6d1867e3c4eb98c87f20686baafe6"
            }
          },
          "metadata": {}
        },
        {
          "name": "stderr",
          "text": "Some weights of ViTForImageClassification were not initialized from the model checkpoint at google/vit-base-patch16-224-in21k and are newly initialized: ['classifier.bias', 'classifier.weight']\nYou should probably TRAIN this model on a down-stream task to be able to use it for predictions and inference.\n",
          "output_type": "stream"
        },
        {
          "output_type": "display_data",
          "data": {
            "text/plain": "preprocessor_config.json:   0%|          | 0.00/160 [00:00<?, ?B/s]",
            "application/vnd.jupyter.widget-view+json": {
              "version_major": 2,
              "version_minor": 0,
              "model_id": "313823980ba3483f88225ef792d64b40"
            }
          },
          "metadata": {}
        },
        {
          "name": "stdout",
          "text": "ViTForImageClassification(\n  (vit): ViTModel(\n    (embeddings): ViTEmbeddings(\n      (patch_embeddings): ViTPatchEmbeddings(\n        (projection): Conv2d(3, 768, kernel_size=(16, 16), stride=(16, 16))\n      )\n      (dropout): Dropout(p=0.0, inplace=False)\n    )\n    (encoder): ViTEncoder(\n      (layer): ModuleList(\n        (0-11): 12 x ViTLayer(\n          (attention): ViTSdpaAttention(\n            (attention): ViTSdpaSelfAttention(\n              (query): Linear(in_features=768, out_features=768, bias=True)\n              (key): Linear(in_features=768, out_features=768, bias=True)\n              (value): Linear(in_features=768, out_features=768, bias=True)\n              (dropout): Dropout(p=0.0, inplace=False)\n            )\n            (output): ViTSelfOutput(\n              (dense): Linear(in_features=768, out_features=768, bias=True)\n              (dropout): Dropout(p=0.0, inplace=False)\n            )\n          )\n          (intermediate): ViTIntermediate(\n            (dense): Linear(in_features=768, out_features=3072, bias=True)\n            (intermediate_act_fn): GELUActivation()\n          )\n          (output): ViTOutput(\n            (dense): Linear(in_features=3072, out_features=768, bias=True)\n            (dropout): Dropout(p=0.0, inplace=False)\n          )\n          (layernorm_before): LayerNorm((768,), eps=1e-12, elementwise_affine=True)\n          (layernorm_after): LayerNorm((768,), eps=1e-12, elementwise_affine=True)\n        )\n      )\n    )\n    (layernorm): LayerNorm((768,), eps=1e-12, elementwise_affine=True)\n  )\n  (classifier): Linear(in_features=768, out_features=51, bias=True)\n)\n",
          "output_type": "stream"
        },
        {
          "name": "stderr",
          "text": "/opt/conda/lib/python3.10/site-packages/transformers/models/vit/feature_extraction_vit.py:28: FutureWarning: The class ViTFeatureExtractor is deprecated and will be removed in version 5 of Transformers. Please use ViTImageProcessor instead.\n  warnings.warn(\n",
          "output_type": "stream"
        }
      ]
    },
    {
      "cell_type": "markdown",
      "source": [
        "## Setting Up Training Configurations:"
      ],
      "metadata": {
        "id": "qia8fiKB67cK"
      }
    },
    {
      "cell_type": "code",
      "source": [
        "random.seed(42)\n",
        "\n",
        "batch_size = 16\n",
        "num_epochs = 25\n",
        "learning_rate = 0.001\n",
        "\n",
        "data_path = '/kaggle/working/hmdb_frames'"
      ],
      "metadata": {
        "id": "yhuXYBK067cK"
      },
      "execution_count": null,
      "outputs": []
    },
    {
      "cell_type": "code",
      "source": [
        "class HMDBDataset(Dataset):\n",
        "    def __init__(self, data_path, feature_extractor, transform=None):\n",
        "        self.transform = transform\n",
        "        self.feature_extractor = feature_extractor\n",
        "        self.images = []\n",
        "        self.labels = []\n",
        "\n",
        "        for label, action_class in enumerate(os.listdir(data_path)):\n",
        "            class_dir = os.path.join(data_path, action_class)\n",
        "            for img_name in os.listdir(class_dir):\n",
        "                self.images.append(os.path.join(class_dir, img_name))\n",
        "                self.labels.append(label)\n",
        "\n",
        "    def __len__(self):\n",
        "        return len(self.images)\n",
        "\n",
        "    def __getitem__(self, idx):\n",
        "        image_path = self.images[idx]\n",
        "        label = self.labels[idx]\n",
        "\n",
        "        image = Image.open(image_path).convert('RGB')\n",
        "        image = self.feature_extractor(images=image, return_tensors=\"pt\")[\"pixel_values\"].squeeze()\n",
        "\n",
        "        if self.transform:\n",
        "            image = self.transform(image)\n",
        "\n",
        "        return image, label\n",
        "\n",
        "train_transform = transforms.Compose([\n",
        "    transforms.RandomResizedCrop(224),\n",
        "    transforms.RandomHorizontalFlip(),\n",
        "])\n",
        "\n",
        "val_transform = transforms.Compose([\n",
        "    transforms.Resize(256),\n",
        "    transforms.CenterCrop(224),\n",
        "])\n",
        "\n",
        "full_dataset = HMDBDataset(data_path, feature_extractor, transform=train_transform)\n",
        "\n",
        "train_size = int(0.8 * len(full_dataset))\n",
        "val_size = len(full_dataset) - train_size\n",
        "train_dataset, val_dataset = random_split(full_dataset, [train_size, val_size])\n",
        "\n",
        "val_dataset.dataset.transform = val_transform\n",
        "\n",
        "train_loader = DataLoader(train_dataset, batch_size=batch_size, shuffle=True)\n",
        "val_loader = DataLoader(val_dataset, batch_size=batch_size, shuffle=False)"
      ],
      "metadata": {
        "id": "QS0f2mVq67cK"
      },
      "execution_count": null,
      "outputs": []
    },
    {
      "cell_type": "code",
      "source": [
        "device = torch.device(\"cuda\" if torch.cuda.is_available() else \"cpu\")\n",
        "model.to(device)\n",
        "\n",
        "optimizer = torch.optim.AdamW(model.parameters(), lr=learning_rate)\n",
        "total_steps = len(train_loader) * num_epochs\n",
        "scheduler = get_cosine_schedule_with_warmup(optimizer, num_warmup_steps=100, num_training_steps=total_steps)\n",
        "\n",
        "criterion = torch.nn.CrossEntropyLoss()\n",
        "\n",
        "print(f\"Training on device: {device}\")\n",
        "print(f\"Batch size: {batch_size}, Number of epochs: {num_epochs}, Learning rate: {learning_rate}\")\n",
        "print(f\"Training set size: {train_size}, Validation set size: {val_size}\")"
      ],
      "metadata": {
        "execution": {
          "iopub.status.busy": "2024-11-10T13:26:01.538233Z",
          "iopub.execute_input": "2024-11-10T13:26:01.538992Z",
          "iopub.status.idle": "2024-11-10T13:26:02.345699Z",
          "shell.execute_reply.started": "2024-11-10T13:26:01.538942Z",
          "shell.execute_reply": "2024-11-10T13:26:02.344711Z"
        },
        "trusted": true,
        "id": "F9rXwfgA67cL",
        "outputId": "2317efaa-c353-4a4a-95ef-36d7f4cf6f36"
      },
      "execution_count": null,
      "outputs": [
        {
          "name": "stdout",
          "text": "Training on device: cuda\nBatch size: 16, Number of epochs: 25, Learning rate: 0.001\nTraining set size: 52716, Validation set size: 13179\n",
          "output_type": "stream"
        }
      ]
    },
    {
      "cell_type": "markdown",
      "source": [
        "## Check pointing and Early Stopping:"
      ],
      "metadata": {
        "id": "rE-iT4sh67cL"
      }
    },
    {
      "cell_type": "code",
      "source": [
        "patience = 3\n",
        "best_val_accuracy = 0\n",
        "epochs_without_improvement = 0\n",
        "checkpoint_path = \"/kaggle/working/best_model.pth\""
      ],
      "metadata": {
        "id": "7MJ9gW9Q67cM"
      },
      "execution_count": null,
      "outputs": []
    },
    {
      "cell_type": "code",
      "source": [
        "for epoch in range(num_epochs):\n",
        "    print(f\"Epoch {epoch + 1}/{num_epochs}\")\n",
        "\n",
        "    model.train()\n",
        "    train_loss = 0\n",
        "    correct_preds = 0\n",
        "    total_preds = 0\n",
        "    for images, labels in tqdm(train_loader):\n",
        "        images, labels = images.to(device), labels.to(device)\n",
        "\n",
        "        optimizer.zero_grad()\n",
        "\n",
        "        outputs = model(images)\n",
        "        logits = outputs.logits\n",
        "        loss = criterion(logits, labels)\n",
        "        train_loss += loss.item() * images.size(0)\n",
        "\n",
        "        loss.backward()\n",
        "        optimizer.step()\n",
        "\n",
        "        _, predicted = torch.max(logits, 1)\n",
        "        correct_preds += (predicted == labels).sum().item()\n",
        "        total_preds += labels.size(0)\n",
        "\n",
        "    avg_train_loss = train_loss / len(train_loader.dataset)\n",
        "    train_accuracy = correct_preds / total_preds\n",
        "    print(f\"Training Loss: {avg_train_loss:.4f}, Training Accuracy: {train_accuracy:.4f}\")\n",
        "\n",
        "    model.eval()\n",
        "    val_loss = 0\n",
        "    correct_preds = 0\n",
        "    total_preds = 0\n",
        "    with torch.no_grad():\n",
        "        for images, labels in val_loader:\n",
        "            images, labels = images.to(device), labels.to(device)\n",
        "\n",
        "            outputs = model(images)\n",
        "            logits = outputs.logits\n",
        "            loss = criterion(logits, labels)\n",
        "            val_loss += loss.item() * images.size(0)\n",
        "\n",
        "            _, predicted = torch.max(logits, 1)\n",
        "            correct_preds += (predicted == labels).sum().item()\n",
        "            total_preds += labels.size(0)\n",
        "\n",
        "    avg_val_loss = val_loss / len(val_loader.dataset)\n",
        "    val_accuracy = correct_preds / total_preds\n",
        "    print(f\"Validation Loss: {avg_val_loss:.4f}, Validation Accuracy: {val_accuracy:.4f}\")\n",
        "\n",
        "    if val_accuracy > best_val_accuracy:\n",
        "        best_val_accuracy = val_accuracy\n",
        "        epochs_without_improvement = 0\n",
        "        torch.save(model.state_dict(), checkpoint_path)\n",
        "        print(f\"Checkpoint saved: Model improved with validation accuracy of {val_accuracy:.4f}\")\n",
        "    else:\n",
        "        epochs_without_improvement += 1\n",
        "        print(f\"No improvement for {epochs_without_improvement} epoch(s)\")\n",
        "\n",
        "    if epochs_without_improvement >= patience:\n",
        "        print(\"Early stopping triggered.\")\n",
        "        break\n",
        "\n",
        "    scheduler.step()"
      ],
      "metadata": {
        "execution": {
          "iopub.status.busy": "2024-11-10T13:48:21.354414Z",
          "iopub.execute_input": "2024-11-10T13:48:21.355288Z",
          "iopub.status.idle": "2024-11-10T17:53:21.357742Z",
          "shell.execute_reply.started": "2024-11-10T13:48:21.355248Z",
          "shell.execute_reply": "2024-11-10T17:53:21.356544Z"
        },
        "trusted": true,
        "id": "CQiGG9Fp67cM",
        "outputId": "1b746d73-051c-464e-e2e0-1a8e7dddd56e"
      },
      "execution_count": null,
      "outputs": [
        {
          "name": "stdout",
          "text": "Epoch 1/25\n",
          "output_type": "stream"
        },
        {
          "name": "stderr",
          "text": "100%|██████████| 3295/3295 [20:04<00:00,  2.74it/s]\n",
          "output_type": "stream"
        },
        {
          "name": "stdout",
          "text": "Training Loss: 3.9392, Training Accuracy: 0.0305\nValidation Loss: 3.9376, Validation Accuracy: 0.0311\nCheckpoint saved: Model improved with validation accuracy of 0.0311\nEpoch 2/25\n",
          "output_type": "stream"
        },
        {
          "name": "stderr",
          "text": "100%|██████████| 3295/3295 [20:05<00:00,  2.73it/s]\n",
          "output_type": "stream"
        },
        {
          "name": "stdout",
          "text": "Training Loss: 2.8896, Training Accuracy: 0.3525\nValidation Loss: 2.1942, Validation Accuracy: 0.5304\nCheckpoint saved: Model improved with validation accuracy of 0.5304\nEpoch 3/25\n",
          "output_type": "stream"
        },
        {
          "name": "stderr",
          "text": "100%|██████████| 3295/3295 [20:06<00:00,  2.73it/s]\n",
          "output_type": "stream"
        },
        {
          "name": "stdout",
          "text": "Training Loss: 1.4822, Training Accuracy: 0.6617\nValidation Loss: 1.0945, Validation Accuracy: 0.7345\nCheckpoint saved: Model improved with validation accuracy of 0.7345\nEpoch 4/25\n",
          "output_type": "stream"
        },
        {
          "name": "stderr",
          "text": "100%|██████████| 3295/3295 [20:06<00:00,  2.73it/s]\n",
          "output_type": "stream"
        },
        {
          "name": "stdout",
          "text": "Training Loss: 0.6948, Training Accuracy: 0.8236\nValidation Loss: 0.6270, Validation Accuracy: 0.8355\nCheckpoint saved: Model improved with validation accuracy of 0.8355\nEpoch 5/25\n",
          "output_type": "stream"
        },
        {
          "name": "stderr",
          "text": "100%|██████████| 3295/3295 [20:04<00:00,  2.74it/s]\n",
          "output_type": "stream"
        },
        {
          "name": "stdout",
          "text": "Training Loss: 0.3599, Training Accuracy: 0.9030\nValidation Loss: 0.5416, Validation Accuracy: 0.8518\nCheckpoint saved: Model improved with validation accuracy of 0.8518\nEpoch 6/25\n",
          "output_type": "stream"
        },
        {
          "name": "stderr",
          "text": "100%|██████████| 3295/3295 [20:04<00:00,  2.73it/s]\n",
          "output_type": "stream"
        },
        {
          "name": "stdout",
          "text": "Training Loss: 0.2413, Training Accuracy: 0.9303\nValidation Loss: 0.5326, Validation Accuracy: 0.8570\nCheckpoint saved: Model improved with validation accuracy of 0.8570\nEpoch 7/25\n",
          "output_type": "stream"
        },
        {
          "name": "stderr",
          "text": "100%|██████████| 3295/3295 [20:06<00:00,  2.73it/s]\n",
          "output_type": "stream"
        },
        {
          "name": "stdout",
          "text": "Training Loss: 0.1845, Training Accuracy: 0.9465\nValidation Loss: 0.4768, Validation Accuracy: 0.8768\nCheckpoint saved: Model improved with validation accuracy of 0.8768\nEpoch 8/25\n",
          "output_type": "stream"
        },
        {
          "name": "stderr",
          "text": "100%|██████████| 3295/3295 [20:06<00:00,  2.73it/s]\n",
          "output_type": "stream"
        },
        {
          "name": "stdout",
          "text": "Training Loss: 0.1731, Training Accuracy: 0.9490\nValidation Loss: 0.4478, Validation Accuracy: 0.8856\nCheckpoint saved: Model improved with validation accuracy of 0.8856\nEpoch 9/25\n",
          "output_type": "stream"
        },
        {
          "name": "stderr",
          "text": "100%|██████████| 3295/3295 [20:12<00:00,  2.72it/s]\n",
          "output_type": "stream"
        },
        {
          "name": "stdout",
          "text": "Training Loss: 0.1584, Training Accuracy: 0.9534\nValidation Loss: 0.4587, Validation Accuracy: 0.8794\nNo improvement for 1 epoch(s)\nEpoch 10/25\n",
          "output_type": "stream"
        },
        {
          "name": "stderr",
          "text": "100%|██████████| 3295/3295 [20:26<00:00,  2.69it/s]\n",
          "output_type": "stream"
        },
        {
          "name": "stdout",
          "text": "Training Loss: 0.1512, Training Accuracy: 0.9544\nValidation Loss: 0.4752, Validation Accuracy: 0.8768\nNo improvement for 2 epoch(s)\nEpoch 11/25\n",
          "output_type": "stream"
        },
        {
          "name": "stderr",
          "text": "100%|██████████| 3295/3295 [20:29<00:00,  2.68it/s]\n",
          "output_type": "stream"
        },
        {
          "name": "stdout",
          "text": "Training Loss: 0.1476, Training Accuracy: 0.9567\nValidation Loss: 0.5144, Validation Accuracy: 0.8723\nNo improvement for 3 epoch(s)\nEarly stopping triggered.\n",
          "output_type": "stream"
        }
      ]
    },
    {
      "cell_type": "markdown",
      "source": [
        "#### Saving trained model:"
      ],
      "metadata": {
        "id": "ZVHuhWF667cM"
      }
    },
    {
      "cell_type": "code",
      "source": [
        "final_model_path = \"/kaggle/working/final_trained_model.pth\"\n",
        "\n",
        "torch.save(model.state_dict(), final_model_path)\n",
        "print(f\"Model saved to {final_model_path}\")"
      ],
      "metadata": {
        "execution": {
          "iopub.status.busy": "2024-11-10T18:15:01.400770Z",
          "iopub.execute_input": "2024-11-10T18:15:01.401480Z",
          "iopub.status.idle": "2024-11-10T18:15:01.885294Z",
          "shell.execute_reply.started": "2024-11-10T18:15:01.401442Z",
          "shell.execute_reply": "2024-11-10T18:15:01.884204Z"
        },
        "trusted": true,
        "id": "ze-3yKbO67cN",
        "outputId": "f3ade579-e368-4e82-cb91-39824596509a"
      },
      "execution_count": null,
      "outputs": [
        {
          "name": "stdout",
          "text": "Model saved to /kaggle/working/final_trained_model.pth\n",
          "output_type": "stream"
        }
      ]
    },
    {
      "cell_type": "markdown",
      "source": [
        "## Model evaluation:"
      ],
      "metadata": {
        "id": "2UFG7rrf67cN"
      }
    },
    {
      "cell_type": "code",
      "source": [
        "total_size = len(full_dataset)\n",
        "train_size = int(0.8 * total_size)\n",
        "val_size = int(0.1 * total_size)\n",
        "test_size = total_size - train_size - val_size\n",
        "\n",
        "train_dataset, val_dataset, test_dataset = random_split(full_dataset, [train_size, val_size, test_size])\n",
        "\n",
        "train_loader = DataLoader(train_dataset, batch_size=batch_size, shuffle=True)\n",
        "val_loader = DataLoader(val_dataset, batch_size=batch_size, shuffle=False)\n",
        "test_loader = DataLoader(test_dataset, batch_size=batch_size, shuffle=False)"
      ],
      "metadata": {
        "execution": {
          "iopub.status.busy": "2024-11-10T18:11:05.624060Z",
          "iopub.execute_input": "2024-11-10T18:11:05.625007Z",
          "iopub.status.idle": "2024-11-10T18:11:05.640795Z",
          "shell.execute_reply.started": "2024-11-10T18:11:05.624928Z",
          "shell.execute_reply": "2024-11-10T18:11:05.639524Z"
        },
        "trusted": true,
        "id": "5O8F07hx67cN"
      },
      "execution_count": null,
      "outputs": []
    },
    {
      "cell_type": "code",
      "source": [
        "model.load_state_dict(torch.load(checkpoint_path))\n",
        "model.eval()  # Set the model to evaluation mode\n",
        "\n",
        "test_loss = 0\n",
        "correct_preds = 0\n",
        "total_preds = 0\n",
        "\n",
        "with torch.no_grad():\n",
        "    for images, labels in test_loader:\n",
        "        images, labels = images.to(device), labels.to(device)\n",
        "\n",
        "        outputs = model(images)\n",
        "        logits = outputs.logits\n",
        "        loss = criterion(logits, labels)\n",
        "        test_loss += loss.item() * images.size(0)\n",
        "\n",
        "        _, predicted = torch.max(logits, 1)\n",
        "        correct_preds += (predicted == labels).sum().item()\n",
        "        total_preds += labels.size(0)\n",
        "\n",
        "avg_test_loss = test_loss / len(test_loader.dataset)\n",
        "test_accuracy = correct_preds / total_preds\n",
        "\n",
        "print(f\"Test Loss: {avg_test_loss:.4f}, Test Accuracy: {test_accuracy:.4f}\")"
      ],
      "metadata": {
        "execution": {
          "iopub.status.busy": "2024-11-10T18:11:17.894834Z",
          "iopub.execute_input": "2024-11-10T18:11:17.895224Z",
          "iopub.status.idle": "2024-11-10T18:12:23.032453Z",
          "shell.execute_reply.started": "2024-11-10T18:11:17.895187Z",
          "shell.execute_reply": "2024-11-10T18:12:23.031446Z"
        },
        "trusted": true,
        "id": "GuQBkaCY67cO",
        "outputId": "3bf8b283-ae36-4641-cfdd-9ab26b923414"
      },
      "execution_count": null,
      "outputs": [
        {
          "name": "stderr",
          "text": "/tmp/ipykernel_30/2654928947.py:2: FutureWarning: You are using `torch.load` with `weights_only=False` (the current default value), which uses the default pickle module implicitly. It is possible to construct malicious pickle data which will execute arbitrary code during unpickling (See https://github.com/pytorch/pytorch/blob/main/SECURITY.md#untrusted-models for more details). In a future release, the default value for `weights_only` will be flipped to `True`. This limits the functions that could be executed during unpickling. Arbitrary objects will no longer be allowed to be loaded via this mode unless they are explicitly allowlisted by the user via `torch.serialization.add_safe_globals`. We recommend you start setting `weights_only=True` for any use case where you don't have full control of the loaded file. Please open an issue on GitHub for any issues related to this experimental feature.\n  model.load_state_dict(torch.load(checkpoint_path))\n",
          "output_type": "stream"
        },
        {
          "name": "stdout",
          "text": "Test Loss: 0.1687, Test Accuracy: 0.9533\n",
          "output_type": "stream"
        }
      ]
    },
    {
      "cell_type": "code",
      "source": [
        ""
      ],
      "metadata": {
        "id": "ZXEb6U5367cO"
      },
      "execution_count": null,
      "outputs": []
    }
  ]
}